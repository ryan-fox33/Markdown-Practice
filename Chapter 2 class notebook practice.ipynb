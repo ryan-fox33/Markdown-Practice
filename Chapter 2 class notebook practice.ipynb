{
 "cells": [
  {
   "cell_type": "code",
   "execution_count": 1,
   "id": "a364cbe2",
   "metadata": {},
   "outputs": [
    {
     "name": "stdout",
     "output_type": "stream",
     "text": [
      "6\n"
     ]
    }
   ],
   "source": [
    "a=3\n",
    "b=a*2\n",
    "print (b)"
   ]
  },
  {
   "cell_type": "code",
   "execution_count": 3,
   "id": "c514a478",
   "metadata": {},
   "outputs": [
    {
     "name": "stdout",
     "output_type": "stream",
     "text": [
      "27\n"
     ]
    }
   ],
   "source": [
    "c=10\n",
    "d=17\n",
    "print (c+d)"
   ]
  },
  {
   "cell_type": "code",
   "execution_count": 4,
   "id": "ce16d8f8",
   "metadata": {},
   "outputs": [
    {
     "name": "stdout",
     "output_type": "stream",
     "text": [
      "Hello class welcome to CS150\n"
     ]
    }
   ],
   "source": [
    "print(\"Hello class welcome to CS150\")"
   ]
  },
  {
   "cell_type": "markdown",
   "id": "75308c51",
   "metadata": {},
   "source": [
    "# Heading1"
   ]
  },
  {
   "cell_type": "markdown",
   "id": "5301334e",
   "metadata": {},
   "source": [
    "## Heading 2"
   ]
  },
  {
   "cell_type": "markdown",
   "id": "3aa3a9bf",
   "metadata": {},
   "source": [
    "### Heading 3"
   ]
  },
  {
   "cell_type": "markdown",
   "id": "9765870f",
   "metadata": {},
   "source": [
    "#### Heading 4"
   ]
  },
  {
   "cell_type": "markdown",
   "id": "424ef947",
   "metadata": {},
   "source": [
    "##### Heading 5"
   ]
  },
  {
   "cell_type": "markdown",
   "id": "0cfa4b06",
   "metadata": {},
   "source": [
    "###### Heading 6"
   ]
  },
  {
   "cell_type": "markdown",
   "id": "423eafb2",
   "metadata": {},
   "source": [
    "> Today is a good day "
   ]
  },
  {
   "cell_type": "markdown",
   "id": "d1ec721a",
   "metadata": {},
   "source": [
    "* This is a bullet list \n",
    "First Bullet \n",
    "Second Bullet"
   ]
  },
  {
   "cell_type": "markdown",
   "id": "698ed26e",
   "metadata": {},
   "source": [
    "* This is a bullet list \n",
    "* Bullet one \n",
    "* Bullet two"
   ]
  },
  {
   "cell_type": "markdown",
   "id": "35a91027",
   "metadata": {},
   "source": [
    "1. number list one \n",
    "2. number list two "
   ]
  },
  {
   "cell_type": "markdown",
   "id": "f7843469",
   "metadata": {},
   "source": [
    "**These are bold words**"
   ]
  },
  {
   "cell_type": "markdown",
   "id": "ae30fe2f",
   "metadata": {},
   "source": [
    "*These are Italic words*"
   ]
  },
  {
   "cell_type": "markdown",
   "id": "0e9d9346",
   "metadata": {},
   "source": [
    "`Here is a code for printing statements`"
   ]
  },
  {
   "cell_type": "markdown",
   "id": "1f1e6e3a",
   "metadata": {},
   "source": [
    "<a href=\"https://www.google.com/\">Google</a>"
   ]
  },
  {
   "cell_type": "markdown",
   "id": "5c974fc5",
   "metadata": {},
   "source": [
    "![Baseball](https://www.history.com/.image/t_share/MTU3ODc4NjAyOTkyNTI2NjY1/ask-history-who-invented-baseball-2.jpg)"
   ]
  },
  {
   "cell_type": "code",
   "execution_count": null,
   "id": "0902d446",
   "metadata": {},
   "outputs": [],
   "source": []
  }
 ],
 "metadata": {
  "kernelspec": {
   "display_name": "Python 3 (ipykernel)",
   "language": "python",
   "name": "python3"
  },
  "language_info": {
   "codemirror_mode": {
    "name": "ipython",
    "version": 3
   },
   "file_extension": ".py",
   "mimetype": "text/x-python",
   "name": "python",
   "nbconvert_exporter": "python",
   "pygments_lexer": "ipython3",
   "version": "3.9.12"
  }
 },
 "nbformat": 4,
 "nbformat_minor": 5
}
